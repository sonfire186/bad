{
 "cells": [
  {
   "cell_type": "code",
   "execution_count": 13,
   "metadata": {},
   "outputs": [],
   "source": [
    "from keras import backend as K\n",
    "from keras.layers import Embedding\n",
    "from keras.layers import LSTM, Input, merge, Lambda\n",
    "from keras.layers.wrappers import Bidirectional\n",
    "from keras.layers.convolutional import Convolution1D\n",
    "from keras.preprocessing.sequence import pad_sequences\n",
    "from keras.models import Model\n",
    "import numpy as np"
   ]
  },
  {
   "cell_type": "code",
   "execution_count": null,
   "metadata": {},
   "outputs": [],
   "source": [
    "class QAModel():\n",
    "    def get_cosine_similarity(self):\n",
    "        dot = lambda a, b: K.batch_dot(a, b, axes=1)\n",
    "        l2_norm = lambda a, b: K.sqrt(K.sum(K.square(a - b), axis=1, keepdims=True))\n",
    "        return lambda x: dot(x[0], x[1]) / K.maximum(K.sqrt(dot(x[0], x[0]) * dot(x[1], x[1])), K.epsilon())\n",
    "    \n",
    "    def bilstm_model(self, embedding_matrix , word_depth):\n",
    "        hidden_dim = 128\n",
    "        margin = 0.05\n",
    "        question = Input(shape = (word_depth, ), dtype='int64', name='question')\n",
    "        answer = Input(shape = (word_depth, ), dtype='int64', name='answer')\n",
    "        answer_good = Input(shape=(word_depth,), dtype='int64', name='answer_good_base')\n",
    "        answer_bad = Input(shape = (word_depth, ), dtype='int64', name='answer_bad_base')\n",
    "\n",
    "        embedding = Embedding(len(embedding_matrix),\n",
    "                                            300,                            \n",
    "                                            weights=[embedding_matrix],\n",
    "                                            input_length=word_depth,\n",
    "                                            trainable=False,\n",
    "                                            mask_zero=False)\n",
    "        bi_lstm = Bidirectional(LSTM(activation='tanh', dropout=0.2, units=hidden_dim, return_sequences=False))\n",
    "        question_embedding = embedding(question)\n",
    "        question_enc_1 = bi_lstm(question_embedding)\n",
    "        answer_embedding =  embedding(answer)\n",
    "        answer_enc_1 = bi_lstm(answer_embedding)\n",
    "\n",
    "        similarity = self.get_cosine_similarity()\n",
    "\n",
    "        question_answer_merged = Lambda(similarity, output_shape=lambda _: (None, 1))([question_enc_1,\n",
    "                                                                                     answer_enc_1]) \n",
    "        lstm_model = Model(name=\"bi_lstm\", inputs=[question, answer], outputs=question_answer_merged)\n",
    "\n",
    "        good_similarity = lstm_model([question, answer_good])\n",
    "        bad_similarity = lstm_model([question, answer_bad])\n",
    "\n",
    "        loss = Lambda(lambda x: K.relu(margin  - x[0] + x[1]),\n",
    "                              output_shape=lambda x: x[0])([good_similarity, bad_similarity])\n",
    "\n",
    "        training_model = Model(inputs=[question, answer_good, answer_bad], outputs=loss, name='training_model')\n",
    "        training_model.compile(loss=lambda y_true, y_pred: y_pred, optimizer=\"rmsprop\")\n",
    "        prediction_model = Model(inputs=[question, answer_good], outputs=good_similarity, name='prediction_model')\n",
    "        prediction_model.compile(loss=lambda y_true, y_pred: y_pred, optimizer=\"rmsprop\")\n",
    "        \n",
    "        return training_model, prediction_model"
   ]
  },
  {
   "cell_type": "code",
   "execution_count": null,
   "metadata": {},
   "outputs": [],
   "source": [
    "class QAData():\n",
    "    def __init__(self, fasttext_index):\n",
    "        self.fasttext_index = fasttext_index\n",
    "    \n",
    "    def text2sequence(self, text):\n",
    "        return list(map(lambda token: self.fasttext_index.get(token, len(self.fasttext_index) - 1), wordpunct_tokenize(str(text))))\n",
    "\n",
    "    def pad(self, data, length):        \n",
    "         return pad_sequences(list(map(text2sequence, data)), maxlen=length)\n",
    "    \n",
    "    def get_training_data(self):\n",
    "        import random\n",
    "        questions = []\n",
    "        good_answers = []\n",
    "        for i in range(len(df_tmp)):\n",
    "            s = df_tmp.iloc[i]\n",
    "            questions.append(s['Review Text'])\n",
    "            good_answers.append(s['Developer Reply Text'])\n",
    "        \n",
    "        bad_answers = random.sample(good_answers, len(good_answers))  \n",
    "        \n",
    "        questions = self.pad(questions, 100)\n",
    "        good_answers = self.pad(good_answers, 100)\n",
    "        bad_answers = self.pad(bad_answers, 100)\n",
    "        \n",
    "        return questions,good_answers,bad_answers"
   ]
  },
  {
   "cell_type": "code",
   "execution_count": null,
   "metadata": {},
   "outputs": [],
   "source": [
    "qa_model = QAModel()\n",
    "train_model, predict_model = qa_model.bilstm_model(embedding_matrix , 100)"
   ]
  },
  {
   "cell_type": "code",
   "execution_count": null,
   "metadata": {},
   "outputs": [],
   "source": [
    "qa_data = QAData(fasttext_index)\n",
    "questions, good_answers, bad_answers = qa_data.get_training_data()"
   ]
  },
  {
   "cell_type": "code",
   "execution_count": null,
   "metadata": {},
   "outputs": [],
   "source": [
    "Y = np.zeros(shape=(questions.shape[0],))"
   ]
  },
  {
   "cell_type": "code",
   "execution_count": null,
   "metadata": {},
   "outputs": [],
   "source": [
    "train_model.fit(\n",
    "                [questions, good_answers, bad_answers],\n",
    "                Y,\n",
    "                epochs=1,\n",
    "                batch_size=64,\n",
    "                validation_split=0.1,\n",
    "                verbose=0, callbacks=[TQDMNotebookCallback(leave_inner=True)]\n",
    "            )"
   ]
  }
 ],
 "metadata": {
  "kernelspec": {
   "display_name": "Python 3",
   "language": "python",
   "name": "python3"
  },
  "language_info": {
   "codemirror_mode": {
    "name": "ipython",
    "version": 3
   },
   "file_extension": ".py",
   "mimetype": "text/x-python",
   "name": "python",
   "nbconvert_exporter": "python",
   "pygments_lexer": "ipython3",
   "version": "3.7.3"
  },
  "varInspector": {
   "cols": {
    "lenName": 16,
    "lenType": 16,
    "lenVar": 40
   },
   "kernels_config": {
    "python": {
     "delete_cmd_postfix": "",
     "delete_cmd_prefix": "del ",
     "library": "var_list.py",
     "varRefreshCmd": "print(var_dic_list())"
    },
    "r": {
     "delete_cmd_postfix": ") ",
     "delete_cmd_prefix": "rm(",
     "library": "var_list.r",
     "varRefreshCmd": "cat(var_dic_list()) "
    }
   },
   "types_to_exclude": [
    "module",
    "function",
    "builtin_function_or_method",
    "instance",
    "_Feature"
   ],
   "window_display": false
  }
 },
 "nbformat": 4,
 "nbformat_minor": 2
}
